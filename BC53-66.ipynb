{
 "cells": [
  {
   "cell_type": "code",
   "execution_count": null,
   "id": "b8e99e0f-86d6-4a9e-bb93-cb69e483f474",
   "metadata": {},
   "outputs": [],
   "source": [
    "!pip install squidpy scanpy matplotlib seaborn pandas numpy"
   ]
  },
  {
   "cell_type": "code",
   "execution_count": null,
   "id": "cbb5a313-23e0-4636-bfdb-7fb8ae424812",
   "metadata": {},
   "outputs": [],
   "source": [
    "import numpy as np\n",
    "import pandas as pd\n",
    "\n",
    "import matplotlib.pyplot as plt\n",
    "import seaborn as sns\n",
    "\n",
    "import scanpy as sc\n",
    "import squidpy as sq\n",
    "\n",
    "import os"
   ]
  },
  {
   "cell_type": "code",
   "execution_count": null,
   "id": "73378a5b-341e-4e12-ae0b-1b0271bcb807",
   "metadata": {},
   "outputs": [],
   "source": [
    "# Set the working directory\n",
    "new_working_directory = r\"C:\\Users\\leona\\Documents\\Documents Async\\Master\\JupyterProjects\"\n",
    "os.chdir(new_working_directory)\n"
   ]
  },
  {
   "cell_type": "code",
   "execution_count": null,
   "id": "4ea9b130-4216-47fd-a6ec-b839e450c466",
   "metadata": {},
   "outputs": [],
   "source": [
    "#set data directory of the xenium output\n",
    "data_directory = r\"C:\\Users\\leona\\Documents\\Documents Async\\Master\\Xenium Files\\output_BC53-66\"\n",
    "\n",
    "# Read the data directly from the specified directory\n",
    "adata = sc.read_10x_h5(\n",
    "    filename=os.path.join(data_directory, \"cell_feature_matrix.h5\")\n",
    ")\n",
    "df = pd.read_csv(\n",
    "    os.path.join(data_directory, \"cells.csv.gz\")\n",
    ")\n",
    "\n"
   ]
  },
  {
   "cell_type": "code",
   "execution_count": null,
   "id": "18002092-08da-4d81-a8af-617a08fcba3b",
   "metadata": {},
   "outputs": [],
   "source": [
    "# Decompress the .csv.gz file if needed\n",
    "df.to_csv(os.path.join(data_directory, \"cells.csv\"), index=False)\n",
    "df = pd.read_csv(os.path.join(data_directory, \"cells.csv\"))"
   ]
  },
  {
   "cell_type": "code",
   "execution_count": null,
   "id": "c6d6f983-5851-47df-8ce5-328d45ffe91f",
   "metadata": {},
   "outputs": [],
   "source": [
    "# Set the index and update adata.obs\n",
    "df.set_index(adata.obs_names, inplace=True)\n",
    "adata.obs = df.copy()"
   ]
  },
  {
   "cell_type": "code",
   "execution_count": null,
   "id": "2b9bccb6-1cfa-4f9f-8622-af2ec07ee976",
   "metadata": {},
   "outputs": [],
   "source": [
    "# Update adata.obsm with spatial coordinates\n",
    "adata.obsm[\"spatial\"] = adata.obs[[\"x_centroid\", \"y_centroid\"]].copy().to_numpy()\n"
   ]
  },
  {
   "cell_type": "code",
   "execution_count": null,
   "id": "b0e9d3b2-52c0-4021-8001-5dc46641cbfd",
   "metadata": {},
   "outputs": [],
   "source": [
    "# Display adata.obs to verify the data\n",
    "adata.obs"
   ]
  },
  {
   "cell_type": "code",
   "execution_count": null,
   "id": "21974204-d8d5-4807-9088-495a2787c71a",
   "metadata": {},
   "outputs": [],
   "source": [
    "adata"
   ]
  },
  {
   "cell_type": "code",
   "execution_count": null,
   "id": "1941067b-0c5c-418e-9432-5b34b16dbf6d",
   "metadata": {},
   "outputs": [],
   "source": [
    "#Quality control?\n",
    "sc.pl.violin(adata, ['transcript_counts', 'total_counts', 'cell_area'], jitter=0.4, multi_panel=True)"
   ]
  },
  {
   "cell_type": "code",
   "execution_count": null,
   "id": "039fdd5d-dc50-46ba-bec8-6588bc9dbf48",
   "metadata": {},
   "outputs": [],
   "source": [
    "#exclude outliers?"
   ]
  },
  {
   "cell_type": "code",
   "execution_count": null,
   "id": "cb2c6e14-b9fe-4ed6-8c09-d8e707ea75f6",
   "metadata": {},
   "outputs": [],
   "source": [
    "#Calculate the quality control metrics on the anndata.AnnData using scanpy.pp.calculate_qc_metrics.\n",
    "\n",
    "sc.pp.calculate_qc_metrics(adata, percent_top=(10, 20, 50, 150), inplace=True)"
   ]
  },
  {
   "cell_type": "code",
   "execution_count": null,
   "id": "2a95c23b-5509-4959-ac6b-5e7f4ec46c9f",
   "metadata": {},
   "outputs": [],
   "source": [
    "#The percentage of control probes and control codewords can be calculated from adata.obs\n",
    "cprobes = (\n",
    "    adata.obs[\"control_probe_counts\"].sum() / adata.obs[\"total_counts\"].sum() * 100\n",
    ")\n",
    "cwords = (\n",
    "    adata.obs[\"control_codeword_counts\"].sum() / adata.obs[\"total_counts\"].sum() * 100\n",
    ")\n",
    "print(f\"Negative DNA probe count % : {cprobes}\")\n",
    "print(f\"Negative decoding count % : {cwords}\")"
   ]
  },
  {
   "cell_type": "code",
   "execution_count": null,
   "id": "592dd008-e15f-4feb-b857-bf50dae8a129",
   "metadata": {},
   "outputs": [],
   "source": [
    "#Next we plot the distribution of total transcripts per cell, unique transcripts per cell, area of segmented cells and the ratio of nuclei area to their cells\n",
    "\n",
    "fig, axs = plt.subplots(1, 4, figsize=(15, 4))\n",
    "\n",
    "axs[0].set_title(\"Total transcripts per cell\")\n",
    "sns.histplot(\n",
    "    adata.obs[\"total_counts\"],\n",
    "    kde=False,\n",
    "    ax=axs[0],\n",
    ")\n",
    "\n",
    "axs[1].set_title(\"Unique transcripts per cell\")\n",
    "sns.histplot(\n",
    "    adata.obs[\"n_genes_by_counts\"],\n",
    "    kde=False,\n",
    "    ax=axs[1],\n",
    ")\n",
    "\n",
    "\n",
    "axs[2].set_title(\"Area of segmented cells\")\n",
    "sns.histplot(\n",
    "    adata.obs[\"cell_area\"],\n",
    "    kde=False,\n",
    "    ax=axs[2],\n",
    ")\n",
    "\n",
    "axs[3].set_title(\"Nucleus ratio\")\n",
    "sns.histplot(\n",
    "    adata.obs[\"nucleus_area\"] / adata.obs[\"cell_area\"],\n",
    "    kde=False,\n",
    "    ax=axs[3],\n",
    ")\n"
   ]
  },
  {
   "cell_type": "code",
   "execution_count": null,
   "id": "981ff0ea-a681-43f2-a617-edcbd4dcd768",
   "metadata": {},
   "outputs": [],
   "source": [
    "#Filter the cells based on the minimum number of counts required using scanpy.pp.filter_cells. Filter the genes based on the minimum number of cells required with scanpy.pp.filter_genes. The parameters for the both were specified based on the plots above. They were set to filter out the cells and genes with minimum counts and minimum cells respectively.\n",
    "#Other filter criteria might be cell area, DAPI signal or a minimum of unique transcripts.\n",
    "\n",
    "sc.pp.filter_cells(adata, min_counts=10)\n",
    "sc.pp.filter_genes(adata, min_cells=5)"
   ]
  },
  {
   "cell_type": "code",
   "execution_count": null,
   "id": "f48d4bb8-80da-4d4d-93f6-e62f0342b8b8",
   "metadata": {},
   "outputs": [],
   "source": [
    "#Normalize counts per cell using scanpy.pp.normalize_total.\n",
    "#Logarithmize, do principal component analysis, compute a neighborhood graph of the observations using scanpy.pp.log1p, scanpy.pp.pca and scanpy.pp.neighbors respectively.\n",
    "#Use scanpy.tl.umap to embed the neighborhood graph of the data and cluster the cells into subgroups employing scanpy.tl.leiden.\n",
    "\n",
    "adata.layers[\"counts\"] = adata.X.copy()\n",
    "sc.pp.normalize_total(adata, inplace=True)\n",
    "sc.pp.log1p(adata)\n",
    "#sc.pp.pca(adata)\n",
    "sc.pp.neighbors(adata, use_rep = 'X')\n",
    "sc.tl.umap(adata)\n",
    "sc.tl.leiden(adata)\n",
    "\n",
    "#add resultion to leiden to reduce number of clusters?"
   ]
  },
  {
   "cell_type": "code",
   "execution_count": null,
   "id": "8a46180f-56d9-44dd-af2d-17cbfc8aa1ee",
   "metadata": {},
   "outputs": [],
   "source": [
    "#Subplot with scatter plot in UMAP (Uniform Manifold Approximation and Projection) basis. \n",
    "#The embedded points were colored, respectively, according to the total counts, number of genes by counts, \n",
    "#and leiden clusters in each of the subplots. This gives us some idea of what the data looks like.\n",
    "\n",
    "sc.pl.umap(\n",
    "    adata,\n",
    "    color=[\n",
    "        \"total_counts\",\n",
    "        \"n_genes_by_counts\",\n",
    "        \"leiden\",\n",
    "    ],\n",
    "    legend_loc='on data',\n",
    "    wspace=0.4,\n",
    ")"
   ]
  },
  {
   "cell_type": "code",
   "execution_count": null,
   "id": "0e6c3f78-9c42-46f2-aa08-d6292fb4fd34",
   "metadata": {},
   "outputs": [],
   "source": [
    "#try to identify clusters with celltype annotation genes\n",
    "#how to use multiple annotation genes?\n",
    "\n",
    "sc.pl.umap(adata, color=['EGFP-1','EGFP-2','EGFP-3', 'Col6a1', 'Col14a1', 'Col12a1', 'Col5a1', 'Col5a2', 'Col5a2', 'Fap', 'Cd4', 'Cd8a'], use_raw=False)"
   ]
  },
  {
   "cell_type": "code",
   "execution_count": null,
   "id": "e8bf7f39-4102-4ed2-ab45-deceb57ce2af",
   "metadata": {},
   "outputs": [],
   "source": [
    "sc.pl.umap(adata, color=['Cd3e', 'Cd4', 'Cd8a','EGFP-2', 'Col6a1', 'Col12a1', 'Col5a2', 'Fap', 'Cd68', 'Pecam1', 'Cd80', 'Kras', 'CreERT2-1', 'CreERT2-2', 'CreERT2-4'], use_raw=False)"
   ]
  },
  {
   "cell_type": "code",
   "execution_count": null,
   "id": "8c684c9a-e786-41ac-9888-ed9c4f3a9e6d",
   "metadata": {},
   "outputs": [],
   "source": [
    "##try to extract most expressed genes per cluster based on rankes\n",
    "sc.tl.rank_genes_groups(adata, \"leiden\", method=\"wilcoxon\")"
   ]
  },
  {
   "cell_type": "code",
   "execution_count": null,
   "id": "a50c2f78-b317-4ff3-94a4-a2f076122983",
   "metadata": {},
   "outputs": [],
   "source": [
    "sc.pl.rank_genes_groups_dotplot(adata, n_genes=8)"
   ]
  },
  {
   "cell_type": "code",
   "execution_count": null,
   "id": "4fe8d239-8e8c-4691-b9a2-d064b64efe8d",
   "metadata": {},
   "outputs": [],
   "source": [
    "sc.pl.rank_genes_groups_heatmap(adata, groups=\"5\", n_genes=50, groupby=\"leiden\")"
   ]
  },
  {
   "cell_type": "code",
   "execution_count": null,
   "id": "0da76743-9c78-4e74-999f-18565e5c3458",
   "metadata": {},
   "outputs": [],
   "source": []
  },
  {
   "cell_type": "code",
   "execution_count": null,
   "id": "5395e3fa-7953-4fcd-b40c-49aaa72a9181",
   "metadata": {},
   "outputs": [],
   "source": [
    "#Visualize on spatial coordinates\n",
    "sq.pl.spatial_scatter(\n",
    "    adata,\n",
    "    library_id=\"spatial\",\n",
    "    shape=None,\n",
    "    color=[\n",
    "        \"leiden\",\n",
    "    ],\n",
    "    wspace=0.8,\n",
    ")\n",
    "\n",
    "##add specific gene after \"leiden\"\n"
   ]
  },
  {
   "cell_type": "code",
   "execution_count": null,
   "id": "c018b283-0117-46c0-b695-0c30e8e51bde",
   "metadata": {},
   "outputs": [],
   "source": [
    "#First, we need to compute a connectivity matrix from spatial coordinates to calculate the centrality scores. \n",
    "#We can use squidpy.gr.spatial_neighbors for this purpose. We use the coord_type=\"generic\" based on the data \n",
    "#and the neighbors are classified with Delaunay triangulation by specifying delaunay=True.\n",
    "\n",
    "sq.gr.spatial_neighbors(adata, coord_type=\"generic\", delaunay=True)"
   ]
  },
  {
   "cell_type": "code",
   "execution_count": null,
   "id": "8bb8c771-98b6-4446-9560-473386aefba0",
   "metadata": {},
   "outputs": [],
   "source": [
    "#Centrality scores are calculated with squidpy.gr.centrality_scores, with the Leiden groups as clusters.\n",
    "sq.gr.centrality_scores(adata, cluster_key=\"leiden\")"
   ]
  },
  {
   "cell_type": "code",
   "execution_count": null,
   "id": "165cfebc-fd07-41b0-9b9a-81885edecc89",
   "metadata": {},
   "outputs": [],
   "source": [
    "#The results were visualized by plotting the average centrality, closeness centrality, and degree centrality using squidpy.pl.centrality_scores.\n",
    "sq.pl.centrality_scores(adata, cluster_key=\"leiden\", figsize=(16, 5))"
   ]
  },
  {
   "cell_type": "code",
   "execution_count": null,
   "id": "8d759776-4467-484c-8ff2-7fc33baa3dc5",
   "metadata": {},
   "outputs": [],
   "source": [
    "#We can further visualize tissue organization in spatial coordinates with squidpy.pl.spatial_scatter, \n",
    "#with an overlay of the expressed genes which were colored in consonance with the Leiden clusters.\n",
    "\n",
    "adata_subsample = sc.pp.subsample(adata, fraction=0.5, copy=True)\n"
   ]
  },
  {
   "cell_type": "code",
   "execution_count": null,
   "id": "0eabc6a9-447b-4ca6-a2e0-6baeda54d67f",
   "metadata": {},
   "outputs": [],
   "source": [
    "sq.gr.co_occurrence(\n",
    "    adata_subsample,\n",
    "    cluster_key=\"leiden\",\n",
    ")\n",
    "sq.pl.co_occurrence(\n",
    "    adata_subsample,\n",
    "    cluster_key=\"leiden\",\n",
    "    clusters=\"12\",\n",
    "    figsize=(10, 10),\n",
    ")\n",
    "sq.pl.spatial_scatter(\n",
    "    adata_subsample,\n",
    "    color=\"leiden\",\n",
    "    shape=None,\n",
    "    size=2,\n",
    ")"
   ]
  },
  {
   "cell_type": "code",
   "execution_count": null,
   "id": "fa206f65-e634-49d2-a378-bc9f17c61870",
   "metadata": {},
   "outputs": [],
   "source": [
    "#This dataset contains cell type annotations in anndata.Anndata.obs which are used for calculation of the neighborhood enrichment. \n",
    "#We calculate the neighborhood enrichment score with squidpy.gr.nhood_enrichment.\n",
    "\n",
    "sq.gr.nhood_enrichment(adata, cluster_key=\"leiden\")"
   ]
  },
  {
   "cell_type": "code",
   "execution_count": null,
   "id": "a4852900-8970-4b02-b17b-cd3df6a76386",
   "metadata": {},
   "outputs": [],
   "source": [
    "#And visualize the results with squidpy.pl.nhood_enrichment.\n",
    "\n",
    "fig, ax = plt.subplots(1, 2, figsize=(13, 7))\n",
    "sq.pl.nhood_enrichment(\n",
    "    adata,\n",
    "    cluster_key=\"leiden\",\n",
    "    figsize=(8, 8),\n",
    "    title=\"Neighborhood enrichment adata\",\n",
    "    ax=ax[0],\n",
    ")\n",
    "sq.pl.spatial_scatter(adata_subsample, color=\"leiden\", shape=None, size=2, ax=ax[1])"
   ]
  },
  {
   "cell_type": "code",
   "execution_count": null,
   "id": "eff39a67-e49b-4905-ac34-ff167a44a49a",
   "metadata": {},
   "outputs": [],
   "source": [
    "##The Moran’s I global spatial auto-correlation statistics evaluates whether features (i.e. genes) \n",
    "##shows a pattern that is clustered, dispersed or random in the tissue are under consideration.\n",
    "\n",
    "#We can compute the Moran’s I score with squidpy.gr.spatial_autocorr and mode = 'moran'. \n",
    "#We first need to compute a spatial graph with squidpy.gr.spatial_neighbors. We will also subset the number of genes to evaluate.\n",
    "\n",
    "sq.gr.spatial_neighbors(adata_subsample, coord_type=\"generic\", delaunay=True)\n",
    "sq.gr.spatial_autocorr(\n",
    "    adata_subsample,\n",
    "    mode=\"moran\",\n",
    "    n_perms=100,\n",
    "    n_jobs=1,\n",
    ")\n",
    "adata_subsample.uns[\"moranI\"].head(10)"
   ]
  },
  {
   "cell_type": "code",
   "execution_count": null,
   "id": "86d06587-1b22-4d90-8138-cc1e6220caa4",
   "metadata": {},
   "outputs": [],
   "source": [
    "#We can visualize some of those genes with squidpy.pl.spatial_scatter. \n",
    "#We could also pass mode = 'geary' to compute a closely related auto-correlation statistic, \n",
    "#Geary’s C. See squidpy.gr.spatial_autocorr for more information.\n",
    "\n",
    "#sq.pl.spatial_scatter(\n",
    "    adata_subsample,\n",
    "    library_id=\"spatial\",\n",
    "    color=[\n",
    "        \"KRT7\",\n",
    "        \"FOXA1\",\n",
    "    ],\n",
    "    shape=None,\n",
    "    size=2,\n",
    "    img=False,\n",
    ")"
   ]
  },
  {
   "cell_type": "code",
   "execution_count": null,
   "id": "de2f4cbe-943a-4540-876f-950b0c521aac",
   "metadata": {},
   "outputs": [],
   "source": []
  },
  {
   "cell_type": "code",
   "execution_count": null,
   "id": "80206290-c270-47fc-896b-b7621f529841",
   "metadata": {},
   "outputs": [],
   "source": []
  }
 ],
 "metadata": {
  "kernelspec": {
   "display_name": "Python 3 (ipykernel)",
   "language": "python",
   "name": "python3"
  },
  "language_info": {
   "codemirror_mode": {
    "name": "ipython",
    "version": 3
   },
   "file_extension": ".py",
   "mimetype": "text/x-python",
   "name": "python",
   "nbconvert_exporter": "python",
   "pygments_lexer": "ipython3",
   "version": "3.11.7"
  }
 },
 "nbformat": 4,
 "nbformat_minor": 5
}
